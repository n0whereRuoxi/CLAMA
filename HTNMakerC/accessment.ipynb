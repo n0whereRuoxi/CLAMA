{
 "cells": [
  {
   "cell_type": "code",
   "execution_count": 5,
   "id": "dcbd9394",
   "metadata": {},
   "outputs": [
    {
     "name": "stdout",
     "output_type": "stream",
     "text": [
      "[[50. 50. 50. 50. 50. 50. 50. 50. 50. 50. 50. 50. 50. 50. 50. 50. 50. 50.\n",
      "  50. 50. 50. 50. 50. 50.]\n",
      " [50. 50. 50. 50. 50. 50. 50. 50. 50. 50. 50. 50. 50. 50. 50. 50. 50. 50.\n",
      "  50. 50. 50. 50. 50. 50.]\n",
      " [50. 50. 50. 50. 50. 50. 50. 50. 50. 50. 50. 50. 50. 50. 50. 50. 50. 50.\n",
      "  50. 50. 50. 50. 50. 50.]\n",
      " [50. 50. 50. 50. 50. 50. 50. 50. 50. 50. 50. 50. 50. 50. 50. 50. 50. 50.\n",
      "  50. 50. 50. 50. 50. 50.]]\n"
     ]
    }
   ],
   "source": [
    "import csv\n",
    "import numpy as np\n",
    "import matplotlib.pyplot as plt\n",
    "import statistics\n",
    "\n",
    "dir = \"./ICAPS23_experiments_\"\n",
    "domains = ['blocksworld']\n",
    "modes = ['curriculum', 'original']\n",
    "prune = [True, False]\n",
    "plot = ['run_time', 'number_of_methods']\n",
    "prec = [False]\n",
    "for domain in domains:\n",
    "    table = np.zeros((4, 24))\n",
    "    for has_prec in prec:\n",
    "        for mode in modes:\n",
    "            for is_prune in prune:\n",
    "                for size in range(2,26):\n",
    "                    for count in range(50):\n",
    "                        try:\n",
    "                            with open(dir + domain + \"/results/methods/{}_{}{}{}_{}_{}.txt\".format(\n",
    "                                domain, \n",
    "                                mode, \n",
    "                                '_prune' if is_prune else '', \n",
    "                                '_prec' if has_prec else '',\n",
    "                                size,\n",
    "                                count\n",
    "                                ), 'r') as file:\n",
    "                                first_line = file.readline()\n",
    "#                                 print(size, count, has_prec, mode, is_prune, size, count, first_line)\n",
    "                                result = first_line.rstrip().split(',')\n",
    "                                if len(result) == 4 and int(result[2]) > 0:\n",
    "                                    if mode == 'curriculum':\n",
    "                                        if is_prune:\n",
    "                                            table[0, size-2] += 1\n",
    "                                        else:\n",
    "                                            table[1, size-2] += 1\n",
    "                                    else:\n",
    "                                        if is_prune:\n",
    "                                            table[2, size-2] += 1\n",
    "                                        else:\n",
    "                                            table[3, size-2] += 1\n",
    "                        except IOError:\n",
    "#                             print(\"Warning: File does not appear to exist.\")\n",
    "                            pass\n",
    "#                         else:\n",
    "#                             print(\"else what?\")             \n",
    "    print(table)"
   ]
  },
  {
   "cell_type": "code",
   "execution_count": null,
   "id": "1a316b1b",
   "metadata": {},
   "outputs": [],
   "source": []
  }
 ],
 "metadata": {
  "kernelspec": {
   "display_name": "Python 3",
   "language": "python",
   "name": "python3"
  },
  "language_info": {
   "codemirror_mode": {
    "name": "ipython",
    "version": 3
   },
   "file_extension": ".py",
   "mimetype": "text/x-python",
   "name": "python",
   "nbconvert_exporter": "python",
   "pygments_lexer": "ipython3",
   "version": "3.8.12"
  }
 },
 "nbformat": 4,
 "nbformat_minor": 5
}
